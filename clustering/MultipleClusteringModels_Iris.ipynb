{
 "cells": [
  {
   "cell_type": "markdown",
   "id": "b87a6632",
   "metadata": {},
   "source": [
    "# Course: Building Clustering Models with scikit-learn\n",
    "## Module 3: Performing Clustering Using Mutliple Techniques\n",
    "### Clustering Algorithms\n",
    "- Centroid-based: Finds central reference vectors that may not be part of original data\n",
    "    - k-means\n",
    "- Hierarchical: Creates a tree and leaf nodes are split into clusters\n",
    "    - Agglomerative\n",
    "    - BIRCH\n",
    "- Distribution-based: Built on statistical distribution models (can be hard to use, prone to overfitting)\n",
    "    - Closely resembles the way artificial data sets are created (by sampling a distribution)\n",
    "    - Gaussian mixture models\n",
    "- Density-based: Cluster by areas with higher density of points (sparse points are considered noise/border points)\n",
    "    - DBSCAN\n",
    "    - Mean-shift"
   ]
  },
  {
   "cell_type": "markdown",
   "id": "17840d59",
   "metadata": {},
   "source": [
    "### Setting up Helper Functions to Perform Clustering"
   ]
  },
  {
   "cell_type": "code",
   "execution_count": 1,
   "id": "3c7aa27e",
   "metadata": {},
   "outputs": [],
   "source": [
    "import pandas as pd\n",
    "import numpy as np\n",
    "import matplotlib.pyplot as plt"
   ]
  },
  {
   "cell_type": "code",
   "execution_count": 2,
   "id": "f08380c8",
   "metadata": {},
   "outputs": [],
   "source": [
    "from sklearn import metrics\n",
    "\n",
    "from sklearn.cluster import KMeans\n",
    "from sklearn.cluster import AgglomerativeClustering\n",
    "from sklearn.cluster import DBSCAN\n",
    "from sklearn.cluster import MeanShift\n",
    "from sklearn.cluster import Birch\n",
    "from sklearn.cluster import AffinityPropagation\n",
    "from sklearn.cluster import MiniBatchKMeans\n",
    "\n",
    "import warnings\n",
    "warnings.filterwarnings(\"ignore\")"
   ]
  },
  {
   "cell_type": "code",
   "execution_count": 3,
   "id": "adb43e4e",
   "metadata": {},
   "outputs": [
    {
     "data": {
      "text/html": [
       "<div>\n",
       "<style scoped>\n",
       "    .dataframe tbody tr th:only-of-type {\n",
       "        vertical-align: middle;\n",
       "    }\n",
       "\n",
       "    .dataframe tbody tr th {\n",
       "        vertical-align: top;\n",
       "    }\n",
       "\n",
       "    .dataframe thead th {\n",
       "        text-align: right;\n",
       "    }\n",
       "</style>\n",
       "<table border=\"1\" class=\"dataframe\">\n",
       "  <thead>\n",
       "    <tr style=\"text-align: right;\">\n",
       "      <th></th>\n",
       "      <th>sepal-length</th>\n",
       "      <th>sepal-width</th>\n",
       "      <th>petal-length</th>\n",
       "      <th>petal-width</th>\n",
       "      <th>class</th>\n",
       "    </tr>\n",
       "  </thead>\n",
       "  <tbody>\n",
       "    <tr>\n",
       "      <th>0</th>\n",
       "      <td>5.1</td>\n",
       "      <td>3.5</td>\n",
       "      <td>1.4</td>\n",
       "      <td>0.2</td>\n",
       "      <td>Iris-setosa</td>\n",
       "    </tr>\n",
       "    <tr>\n",
       "      <th>1</th>\n",
       "      <td>4.9</td>\n",
       "      <td>3.0</td>\n",
       "      <td>1.4</td>\n",
       "      <td>0.2</td>\n",
       "      <td>Iris-setosa</td>\n",
       "    </tr>\n",
       "    <tr>\n",
       "      <th>2</th>\n",
       "      <td>4.7</td>\n",
       "      <td>3.2</td>\n",
       "      <td>1.3</td>\n",
       "      <td>0.2</td>\n",
       "      <td>Iris-setosa</td>\n",
       "    </tr>\n",
       "    <tr>\n",
       "      <th>3</th>\n",
       "      <td>4.6</td>\n",
       "      <td>3.1</td>\n",
       "      <td>1.5</td>\n",
       "      <td>0.2</td>\n",
       "      <td>Iris-setosa</td>\n",
       "    </tr>\n",
       "    <tr>\n",
       "      <th>4</th>\n",
       "      <td>5.0</td>\n",
       "      <td>3.6</td>\n",
       "      <td>1.4</td>\n",
       "      <td>0.2</td>\n",
       "      <td>Iris-setosa</td>\n",
       "    </tr>\n",
       "  </tbody>\n",
       "</table>\n",
       "</div>"
      ],
      "text/plain": [
       "   sepal-length  sepal-width  petal-length  petal-width        class\n",
       "0           5.1          3.5           1.4          0.2  Iris-setosa\n",
       "1           4.9          3.0           1.4          0.2  Iris-setosa\n",
       "2           4.7          3.2           1.3          0.2  Iris-setosa\n",
       "3           4.6          3.1           1.5          0.2  Iris-setosa\n",
       "4           5.0          3.6           1.4          0.2  Iris-setosa"
      ]
     },
     "execution_count": 3,
     "metadata": {},
     "output_type": "execute_result"
    }
   ],
   "source": [
    "iris_df = pd.read_csv('datasets/iris.csv', \n",
    "                       skiprows=1, \n",
    "                       names = ['sepal-length',\n",
    "                                'sepal-width',\n",
    "                                'petal-length',\n",
    "                                'petal-width',\n",
    "                                'class'])\n",
    "\n",
    "iris_df.head()"
   ]
  },
  {
   "cell_type": "code",
   "execution_count": 4,
   "id": "1eca2e5a",
   "metadata": {},
   "outputs": [
    {
     "data": {
      "text/html": [
       "<div>\n",
       "<style scoped>\n",
       "    .dataframe tbody tr th:only-of-type {\n",
       "        vertical-align: middle;\n",
       "    }\n",
       "\n",
       "    .dataframe tbody tr th {\n",
       "        vertical-align: top;\n",
       "    }\n",
       "\n",
       "    .dataframe thead th {\n",
       "        text-align: right;\n",
       "    }\n",
       "</style>\n",
       "<table border=\"1\" class=\"dataframe\">\n",
       "  <thead>\n",
       "    <tr style=\"text-align: right;\">\n",
       "      <th></th>\n",
       "      <th>sepal-length</th>\n",
       "      <th>sepal-width</th>\n",
       "      <th>petal-length</th>\n",
       "      <th>petal-width</th>\n",
       "      <th>class</th>\n",
       "    </tr>\n",
       "  </thead>\n",
       "  <tbody>\n",
       "    <tr>\n",
       "      <th>0</th>\n",
       "      <td>5.5</td>\n",
       "      <td>3.5</td>\n",
       "      <td>1.3</td>\n",
       "      <td>0.2</td>\n",
       "      <td>Iris-setosa</td>\n",
       "    </tr>\n",
       "    <tr>\n",
       "      <th>1</th>\n",
       "      <td>5.1</td>\n",
       "      <td>3.5</td>\n",
       "      <td>1.4</td>\n",
       "      <td>0.2</td>\n",
       "      <td>Iris-setosa</td>\n",
       "    </tr>\n",
       "    <tr>\n",
       "      <th>2</th>\n",
       "      <td>5.0</td>\n",
       "      <td>3.6</td>\n",
       "      <td>1.4</td>\n",
       "      <td>0.2</td>\n",
       "      <td>Iris-setosa</td>\n",
       "    </tr>\n",
       "    <tr>\n",
       "      <th>3</th>\n",
       "      <td>5.8</td>\n",
       "      <td>2.7</td>\n",
       "      <td>5.1</td>\n",
       "      <td>1.9</td>\n",
       "      <td>Iris-virginica</td>\n",
       "    </tr>\n",
       "    <tr>\n",
       "      <th>4</th>\n",
       "      <td>6.3</td>\n",
       "      <td>2.8</td>\n",
       "      <td>5.1</td>\n",
       "      <td>1.5</td>\n",
       "      <td>Iris-virginica</td>\n",
       "    </tr>\n",
       "  </tbody>\n",
       "</table>\n",
       "</div>"
      ],
      "text/plain": [
       "   sepal-length  sepal-width  petal-length  petal-width           class\n",
       "0           5.5          3.5           1.3          0.2     Iris-setosa\n",
       "1           5.1          3.5           1.4          0.2     Iris-setosa\n",
       "2           5.0          3.6           1.4          0.2     Iris-setosa\n",
       "3           5.8          2.7           5.1          1.9  Iris-virginica\n",
       "4           6.3          2.8           5.1          1.5  Iris-virginica"
      ]
     },
     "execution_count": 4,
     "metadata": {},
     "output_type": "execute_result"
    }
   ],
   "source": [
    "iris_df = iris_df.sample(frac=1).reset_index(drop=True)\n",
    "\n",
    "iris_df.head()"
   ]
  },
  {
   "cell_type": "code",
   "execution_count": 5,
   "id": "9fcc8f1c",
   "metadata": {},
   "outputs": [
    {
     "data": {
      "text/plain": [
       "(150, 5)"
      ]
     },
     "execution_count": 5,
     "metadata": {},
     "output_type": "execute_result"
    }
   ],
   "source": [
    "iris_df.shape"
   ]
  },
  {
   "cell_type": "code",
   "execution_count": 6,
   "id": "018534a5",
   "metadata": {},
   "outputs": [
    {
     "data": {
      "text/html": [
       "<div>\n",
       "<style scoped>\n",
       "    .dataframe tbody tr th:only-of-type {\n",
       "        vertical-align: middle;\n",
       "    }\n",
       "\n",
       "    .dataframe tbody tr th {\n",
       "        vertical-align: top;\n",
       "    }\n",
       "\n",
       "    .dataframe thead th {\n",
       "        text-align: right;\n",
       "    }\n",
       "</style>\n",
       "<table border=\"1\" class=\"dataframe\">\n",
       "  <thead>\n",
       "    <tr style=\"text-align: right;\">\n",
       "      <th></th>\n",
       "      <th>sepal-length</th>\n",
       "      <th>sepal-width</th>\n",
       "      <th>petal-length</th>\n",
       "      <th>petal-width</th>\n",
       "      <th>class</th>\n",
       "    </tr>\n",
       "  </thead>\n",
       "  <tbody>\n",
       "    <tr>\n",
       "      <th>0</th>\n",
       "      <td>5.5</td>\n",
       "      <td>3.5</td>\n",
       "      <td>1.3</td>\n",
       "      <td>0.2</td>\n",
       "      <td>0</td>\n",
       "    </tr>\n",
       "    <tr>\n",
       "      <th>1</th>\n",
       "      <td>5.1</td>\n",
       "      <td>3.5</td>\n",
       "      <td>1.4</td>\n",
       "      <td>0.2</td>\n",
       "      <td>0</td>\n",
       "    </tr>\n",
       "    <tr>\n",
       "      <th>2</th>\n",
       "      <td>5.0</td>\n",
       "      <td>3.6</td>\n",
       "      <td>1.4</td>\n",
       "      <td>0.2</td>\n",
       "      <td>0</td>\n",
       "    </tr>\n",
       "    <tr>\n",
       "      <th>3</th>\n",
       "      <td>5.8</td>\n",
       "      <td>2.7</td>\n",
       "      <td>5.1</td>\n",
       "      <td>1.9</td>\n",
       "      <td>2</td>\n",
       "    </tr>\n",
       "    <tr>\n",
       "      <th>4</th>\n",
       "      <td>6.3</td>\n",
       "      <td>2.8</td>\n",
       "      <td>5.1</td>\n",
       "      <td>1.5</td>\n",
       "      <td>2</td>\n",
       "    </tr>\n",
       "  </tbody>\n",
       "</table>\n",
       "</div>"
      ],
      "text/plain": [
       "   sepal-length  sepal-width  petal-length  petal-width  class\n",
       "0           5.5          3.5           1.3          0.2      0\n",
       "1           5.1          3.5           1.4          0.2      0\n",
       "2           5.0          3.6           1.4          0.2      0\n",
       "3           5.8          2.7           5.1          1.9      2\n",
       "4           6.3          2.8           5.1          1.5      2"
      ]
     },
     "execution_count": 6,
     "metadata": {},
     "output_type": "execute_result"
    }
   ],
   "source": [
    "from sklearn import preprocessing\n",
    "\n",
    "label_encoding = preprocessing.LabelEncoder()\n",
    "\n",
    "iris_df['class'] = label_encoding.fit_transform(iris_df['class'].astype(str))\n",
    "\n",
    "iris_df.head()"
   ]
  },
  {
   "cell_type": "code",
   "execution_count": 7,
   "id": "73e4ddfb",
   "metadata": {},
   "outputs": [
    {
     "data": {
      "text/html": [
       "<div>\n",
       "<style scoped>\n",
       "    .dataframe tbody tr th:only-of-type {\n",
       "        vertical-align: middle;\n",
       "    }\n",
       "\n",
       "    .dataframe tbody tr th {\n",
       "        vertical-align: top;\n",
       "    }\n",
       "\n",
       "    .dataframe thead th {\n",
       "        text-align: right;\n",
       "    }\n",
       "</style>\n",
       "<table border=\"1\" class=\"dataframe\">\n",
       "  <thead>\n",
       "    <tr style=\"text-align: right;\">\n",
       "      <th></th>\n",
       "      <th>sepal-length</th>\n",
       "      <th>sepal-width</th>\n",
       "      <th>petal-length</th>\n",
       "      <th>petal-width</th>\n",
       "    </tr>\n",
       "  </thead>\n",
       "  <tbody>\n",
       "    <tr>\n",
       "      <th>0</th>\n",
       "      <td>5.5</td>\n",
       "      <td>3.5</td>\n",
       "      <td>1.3</td>\n",
       "      <td>0.2</td>\n",
       "    </tr>\n",
       "    <tr>\n",
       "      <th>1</th>\n",
       "      <td>5.1</td>\n",
       "      <td>3.5</td>\n",
       "      <td>1.4</td>\n",
       "      <td>0.2</td>\n",
       "    </tr>\n",
       "    <tr>\n",
       "      <th>2</th>\n",
       "      <td>5.0</td>\n",
       "      <td>3.6</td>\n",
       "      <td>1.4</td>\n",
       "      <td>0.2</td>\n",
       "    </tr>\n",
       "    <tr>\n",
       "      <th>3</th>\n",
       "      <td>5.8</td>\n",
       "      <td>2.7</td>\n",
       "      <td>5.1</td>\n",
       "      <td>1.9</td>\n",
       "    </tr>\n",
       "    <tr>\n",
       "      <th>4</th>\n",
       "      <td>6.3</td>\n",
       "      <td>2.8</td>\n",
       "      <td>5.1</td>\n",
       "      <td>1.5</td>\n",
       "    </tr>\n",
       "  </tbody>\n",
       "</table>\n",
       "</div>"
      ],
      "text/plain": [
       "   sepal-length  sepal-width  petal-length  petal-width\n",
       "0           5.5          3.5           1.3          0.2\n",
       "1           5.1          3.5           1.4          0.2\n",
       "2           5.0          3.6           1.4          0.2\n",
       "3           5.8          2.7           5.1          1.9\n",
       "4           6.3          2.8           5.1          1.5"
      ]
     },
     "execution_count": 7,
     "metadata": {},
     "output_type": "execute_result"
    }
   ],
   "source": [
    "iris_features = iris_df.drop('class', axis=1)\n",
    "\n",
    "iris_features.head()"
   ]
  },
  {
   "cell_type": "code",
   "execution_count": 8,
   "id": "8f7a85e7",
   "metadata": {},
   "outputs": [
    {
     "data": {
      "text/plain": [
       "109    0\n",
       "36     1\n",
       "16     0\n",
       "115    1\n",
       "11     1\n",
       "Name: class, dtype: int64"
      ]
     },
     "execution_count": 8,
     "metadata": {},
     "output_type": "execute_result"
    }
   ],
   "source": [
    "iris_labels = iris_df['class']\n",
    "\n",
    "iris_labels.sample(5)"
   ]
  },
  {
   "cell_type": "code",
   "execution_count": 9,
   "id": "8c48d738",
   "metadata": {},
   "outputs": [],
   "source": [
    "def build_model(clustering_model, data, labels):\n",
    "    \n",
    "    model = clustering_model(data)\n",
    "    \n",
    "    scores = '''\n",
    "    Homogeneity Score:         %.3f\n",
    "    Completeness Score:        %.3f\n",
    "    V-Measure Score:           %.3f\n",
    "    Adjusted Rand Score:       %.3f\n",
    "    Adjusted Mutual Info Score: %.3f\n",
    "    Silhouette Score:          %.3f\n",
    "''' % (\n",
    "    metrics.homogeneity_score(labels, model.labels_),\n",
    "    metrics.completeness_score(labels, model.labels_),\n",
    "    metrics.v_measure_score(labels, model.labels_),\n",
    "    metrics.adjusted_rand_score(labels, model.labels_),\n",
    "    metrics.adjusted_mutual_info_score(labels, model.labels_),\n",
    "    metrics.silhouette_score(data, model.labels_)\n",
    ")\n",
    "        \n",
    "    print(scores)\n",
    "    return scores"
   ]
  },
  {
   "cell_type": "code",
   "execution_count": 10,
   "id": "6454e04a",
   "metadata": {},
   "outputs": [],
   "source": [
    "# This course did not implement the result_dict or compare_results fn as we did in previous courses but I am going to\n",
    "\n",
    "result_dict = {}\n",
    "\n",
    "def compare_results():\n",
    "    for key in result_dict:\n",
    "        print(key)\n",
    "        print(result_dict[key])"
   ]
  },
  {
   "cell_type": "code",
   "execution_count": 11,
   "id": "3890bf0c",
   "metadata": {},
   "outputs": [],
   "source": [
    "def k_means(data, n_clusters=3, max_iter=1000):\n",
    "    model = KMeans(n_clusters=n_clusters, max_iter=max_iter).fit(data)\n",
    "    \n",
    "    return model"
   ]
  },
  {
   "cell_type": "code",
   "execution_count": 12,
   "id": "56a27389",
   "metadata": {},
   "outputs": [
    {
     "name": "stdout",
     "output_type": "stream",
     "text": [
      "\n",
      "    Homogeneity Score:         0.751\n",
      "    Completeness Score:        0.765\n",
      "    V-Measure Score:           0.758\n",
      "    Adjusted Rand Score:       0.730\n",
      "    Adjusted Mutual Info Score: 0.755\n",
      "    Silhouette Score:          0.553\n",
      "\n"
     ]
    }
   ],
   "source": [
    "result_dict['k_means_cluster'] = build_model(k_means, iris_features, iris_labels)"
   ]
  },
  {
   "cell_type": "code",
   "execution_count": 13,
   "id": "8a27fedd",
   "metadata": {},
   "outputs": [
    {
     "name": "stdout",
     "output_type": "stream",
     "text": [
      "k_means_cluster\n",
      "\n",
      "    Homogeneity Score:         0.751\n",
      "    Completeness Score:        0.765\n",
      "    V-Measure Score:           0.758\n",
      "    Adjusted Rand Score:       0.730\n",
      "    Adjusted Mutual Info Score: 0.755\n",
      "    Silhouette Score:          0.553\n",
      "\n"
     ]
    }
   ],
   "source": [
    "compare_results()"
   ]
  },
  {
   "cell_type": "markdown",
   "id": "e697b6ca",
   "metadata": {},
   "source": [
    "### Choosing Clustering Algorithms\n",
    "Consdier size of dataset and number of clusters.\n",
    "\n",
    "#### BIRCH\n",
    "#### Agglomerative\n",
    "#### Mean-shift\n",
    "#### Affinity Propagation\n",
    "#### K-means\n",
    "#### DBSCAN\n",
    "#### Spectral"
   ]
  },
  {
   "cell_type": "markdown",
   "id": "1af75061",
   "metadata": {},
   "source": [
    "### Agglomerative Clustering\n",
    "Bottoms-up hierarchical clustering that recursively merges pairs of clusters, starting with single point clusers.\n",
    "\n",
    "- Each step merges the two clusters nearest to each other\n",
    "- Uses any of Euclidean, L1 (Manhattan), Cosine, or Precomputed matrix to measure distance/nearness\n",
    "- Two clusters will be merged together when distance is minimized using linkage criterion (below)\n",
    "\n",
    "Linkage Criterion\n",
    "- Single: Minimum of the distances between all points in the two clusters (two clusters that have min are merged)\n",
    "- Complete: Maximum of the distances between all points in the two clusters (two clusters that have min value of this max distance)\n",
    "- Average: Average distance between points in clusters\n",
    "- Ward: Default criterion, minimizes the variances of the data points in the two clusters"
   ]
  },
  {
   "cell_type": "code",
   "execution_count": 14,
   "id": "d4e713f1",
   "metadata": {},
   "outputs": [],
   "source": [
    "def agglomerative_fn(data, n_clusters=3):\n",
    "    # The default linkage criterion is ward which minimizes the variances of clusters being merged\n",
    "    model = AgglomerativeClustering(n_clusters = n_clusters).fit(data)\n",
    "    return model"
   ]
  },
  {
   "cell_type": "code",
   "execution_count": 15,
   "id": "bd21384c",
   "metadata": {},
   "outputs": [
    {
     "name": "stdout",
     "output_type": "stream",
     "text": [
      "\n",
      "    Homogeneity Score:         0.761\n",
      "    Completeness Score:        0.780\n",
      "    V-Measure Score:           0.770\n",
      "    Adjusted Rand Score:       0.731\n",
      "    Adjusted Mutual Info Score: 0.767\n",
      "    Silhouette Score:          0.554\n",
      "\n"
     ]
    }
   ],
   "source": [
    "result_dict['agglomerative_cluster'] = build_model(agglomerative_fn, iris_features, iris_labels)"
   ]
  },
  {
   "cell_type": "markdown",
   "id": "527eb495",
   "metadata": {},
   "source": [
    "### DBSCAN Clustering\n",
    "Density Based Spacial Clustering of Applications with Noise.\n",
    "- Finds areas that have a high density of points\n",
    "- Areas with sparse points are marked as outliers\n",
    "\n",
    "Use for:\n",
    "- Large datasets\n",
    "- Moderate cluster count\n",
    "    \n",
    "K-means is also used for this scenario, but for even cluster sizes and flat surfaces. Use DBSCAN for uneven cluster sizes and manifolds.\n",
    "\n",
    "#### Parameters\n",
    "- eps: Minimum distance: Points closer than this are neighbors, should be larger with larger dimensionality\n",
    "    - If too small, most data won't get clustered, unclustered points will be considered outliters\n",
    "    - If too large, clustering will be too course and most points can end in the same cluster\n",
    "- min_samples: The minimum number of points required to form a dense region\n",
    "    - Generally should be greater than the number of features/dimensions\n",
    "    - Large values will be better for noisy data, will form significant clusters"
   ]
  },
  {
   "cell_type": "code",
   "execution_count": 16,
   "id": "aac871bf",
   "metadata": {},
   "outputs": [],
   "source": [
    "def dbscan_fn(data, eps=0.45, min_samples=4):\n",
    "    model = DBSCAN(eps=eps, min_samples=min_samples).fit(data)\n",
    "    return model"
   ]
  },
  {
   "cell_type": "code",
   "execution_count": 17,
   "id": "6332f32a",
   "metadata": {},
   "outputs": [
    {
     "name": "stdout",
     "output_type": "stream",
     "text": [
      "\n",
      "    Homogeneity Score:         0.577\n",
      "    Completeness Score:        0.609\n",
      "    V-Measure Score:           0.593\n",
      "    Adjusted Rand Score:       0.508\n",
      "    Adjusted Mutual Info Score: 0.584\n",
      "    Silhouette Score:          0.372\n",
      "\n"
     ]
    }
   ],
   "source": [
    "result_dict['dbscan_cluster'] = build_model(dbscan_fn, iris_features, iris_labels)"
   ]
  },
  {
   "cell_type": "code",
   "execution_count": 18,
   "id": "0d956680",
   "metadata": {},
   "outputs": [
    {
     "name": "stdout",
     "output_type": "stream",
     "text": [
      "k_means_cluster\n",
      "\n",
      "    Homogeneity Score:         0.751\n",
      "    Completeness Score:        0.765\n",
      "    V-Measure Score:           0.758\n",
      "    Adjusted Rand Score:       0.730\n",
      "    Adjusted Mutual Info Score: 0.755\n",
      "    Silhouette Score:          0.553\n",
      "\n",
      "agglomerative_cluster\n",
      "\n",
      "    Homogeneity Score:         0.761\n",
      "    Completeness Score:        0.780\n",
      "    V-Measure Score:           0.770\n",
      "    Adjusted Rand Score:       0.731\n",
      "    Adjusted Mutual Info Score: 0.767\n",
      "    Silhouette Score:          0.554\n",
      "\n",
      "dbscan\n",
      "\n",
      "    Homogeneity Score:         0.577\n",
      "    Completeness Score:        0.609\n",
      "    V-Measure Score:           0.593\n",
      "    Adjusted Rand Score:       0.508\n",
      "    Adjusted Mutual Info Score: 0.584\n",
      "    Silhouette Score:          0.372\n",
      "\n"
     ]
    }
   ],
   "source": [
    "compare_results()"
   ]
  },
  {
   "cell_type": "markdown",
   "id": "4d88afd6",
   "metadata": {},
   "source": [
    "### Mean Shift Clustering\n",
    "Tries to discover blobs in a smooth cluster of points.\n",
    "Original seeds of the cluster are determined using a binning technique.\n",
    "- Find neighborhood for each point\n",
    "- For each point, run a function (kernel) against it's neighbors\n",
    "    - Flat Kernel: Sum of all points in neighborhood, each point gets same weight\n",
    "    - Gaussian (Radial Basis Function - RBF) Kernel: Probability-weighted sum of points\n",
    "        - Gaussian probability distribution is a standard bell curve\n",
    "        - Defined by mean of $u$ (center point) and standard deviation of $\\sigma$ (bandwidth)\n",
    "- After the kernel runs, high values are peaks, low values are troughs\n",
    "- All points iteratively shift towards the nearest peak (mean shift) until algorithm converges and points stop moving\n",
    "\n",
    "#### Hyperparameters\n",
    "- bandwidth (very important and hard to predict so tuning also very important)\n",
    "    - Low value will create a tall/skinny kernel (bell curve) that ignores points far from the mean\n",
    "    - High value will create a flatter kernel (bell curve) that consideres points far from the mean\n",
    "    \n",
    "#### Notes\n",
    "- Computationally very intensive, $O(N^2)$, vs K-Means which is $O(N)$\n",
    "- Does better with outliers than k-means\n",
    "- No need to specify number of clusters upfront\n",
    "- Uses density function to handle even complex non-linear data"
   ]
  },
  {
   "cell_type": "code",
   "execution_count": 20,
   "id": "bac8fe11",
   "metadata": {},
   "outputs": [],
   "source": [
    "def mean_shift_fn(data, bandwidth=0.85):\n",
    "    model = MeanShift(bandwidth=bandwidth).fit(data)\n",
    "    return model"
   ]
  },
  {
   "cell_type": "code",
   "execution_count": 21,
   "id": "48147608",
   "metadata": {},
   "outputs": [
    {
     "name": "stdout",
     "output_type": "stream",
     "text": [
      "\n",
      "    Homogeneity Score:         0.760\n",
      "    Completeness Score:        0.772\n",
      "    V-Measure Score:           0.766\n",
      "    Adjusted Rand Score:       0.744\n",
      "    Adjusted Mutual Info Score: 0.763\n",
      "    Silhouette Score:          0.551\n",
      "\n"
     ]
    }
   ],
   "source": [
    "result_dict['mean_shift_clustering'] = build_model(mean_shift_fn, iris_features, iris_labels)"
   ]
  },
  {
   "cell_type": "markdown",
   "id": "be86f705",
   "metadata": {},
   "source": [
    "### BIRCH Clustering\n",
    "Balanced Iterative Reducing and Clustering using Hierarchies (although can also be spelled \"Birch\" like the tree, it is hierarchical).\n",
    "\n",
    "Use for:\n",
    "- Large dataset\n",
    "- Many clusters\n",
    "\n",
    "#### Notes\n",
    "- Advantage: It can detect and remove outliers - it's very effective at handling noise\n",
    "- Advantage: Very memory and time efficient\n",
    "    - It incrementally processes incoming data and updates clusters\n",
    "    - Updates clusters as new data arrives\n",
    "    - Entire dataset need not be loaded into memory\n",
    "    - Makes it an \"online\" clustering algorithm - can work with online streaming data\n",
    "- Disadvantage: Not good with high dimesnionality"
   ]
  },
  {
   "cell_type": "code",
   "execution_count": 22,
   "id": "35d4f821",
   "metadata": {},
   "outputs": [],
   "source": [
    "def birch_fn(data, n_clusters=3):\n",
    "    model = Birch(n_clusters=n_clusters).fit(data)\n",
    "    return model"
   ]
  },
  {
   "cell_type": "code",
   "execution_count": 23,
   "id": "916927f7",
   "metadata": {},
   "outputs": [
    {
     "name": "stdout",
     "output_type": "stream",
     "text": [
      "\n",
      "    Homogeneity Score:         0.700\n",
      "    Completeness Score:        0.745\n",
      "    V-Measure Score:           0.722\n",
      "    Adjusted Rand Score:       0.642\n",
      "    Adjusted Mutual Info Score: 0.718\n",
      "    Silhouette Score:          0.513\n",
      "\n"
     ]
    }
   ],
   "source": [
    "result_dict['birch_clustering'] = build_model(birch_fn, iris_features, iris_labels)"
   ]
  },
  {
   "cell_type": "markdown",
   "id": "b1aa1741",
   "metadata": {},
   "source": [
    "### Affinity Propagation Clustering\n",
    "\n",
    "Use for:\n",
    "- Small dataset\n",
    "- Many clusters\n",
    "\n",
    "Mean-shift can also be used in this scenario\n",
    "\n",
    "Both work well even with uneven clusters (clusters have different numbers of points), and manifold shapes.\n",
    "\n",
    "Main advantage: Does not neeed number of clusters to be specified up front.\n",
    "\n",
    "Attempts to find exemplars, points in training data that are representative of each cluster.\n",
    "\n",
    "Creates graph distances using nearest neighbors. Points are network nodes that send messages to each other expressing willingness to be exmplar."
   ]
  },
  {
   "cell_type": "code",
   "execution_count": 27,
   "id": "d42dc923",
   "metadata": {},
   "outputs": [],
   "source": [
    "def affinity_propagation_fn(data, damping=0.6, max_iter=1000):\n",
    "    # Note we don't define number of clusters\n",
    "    # damping: the extent to which the current value is maintained relative to the incoming values - a learning rate\n",
    "    # max_iter\n",
    "    model = AffinityPropagation(damping=damping, max_iter=max_iter).fit(data)\n",
    "    return model"
   ]
  },
  {
   "cell_type": "code",
   "execution_count": 29,
   "id": "05177f35",
   "metadata": {},
   "outputs": [
    {
     "name": "stdout",
     "output_type": "stream",
     "text": [
      "\n",
      "    Homogeneity Score:         0.851\n",
      "    Completeness Score:        0.492\n",
      "    V-Measure Score:           0.623\n",
      "    Adjusted Rand Score:       0.437\n",
      "    Adjusted Mutual Info Score: 0.612\n",
      "    Silhouette Score:          0.349\n",
      "\n"
     ]
    }
   ],
   "source": [
    "result_dict['affinity_propagation_clustering'] = build_model(affinity_propagation_fn, iris_features, iris_labels)\n",
    "\n",
    "# Shows high Homogeneity but low Completeness"
   ]
  },
  {
   "cell_type": "markdown",
   "id": "2315d634",
   "metadata": {},
   "source": [
    "### Mini-batch K-means Clustering\n",
    "Same objective and implementation as K-means, but iteratively performed on mini-batches of randomly sampled subsets.\n",
    "\n",
    "Reduces the compuation time to converge on a local solution - it is much faster.\n",
    "\n",
    "Use for:\n",
    "- Large datasets\n",
    "- Moderate cluster count"
   ]
  },
  {
   "cell_type": "code",
   "execution_count": 36,
   "id": "50b51321",
   "metadata": {},
   "outputs": [],
   "source": [
    "def mini_batch_kmeans_fn(data, n_clusters=3, max_iter=1000):\n",
    "    model = MiniBatchKMeans(n_clusters=n_clusters, max_iter=max_iter, batch_size=20).fit(data)\n",
    "    return model"
   ]
  },
  {
   "cell_type": "code",
   "execution_count": 37,
   "id": "3f4d62f8",
   "metadata": {},
   "outputs": [
    {
     "name": "stdout",
     "output_type": "stream",
     "text": [
      "\n",
      "    Homogeneity Score:         0.736\n",
      "    Completeness Score:        0.747\n",
      "    V-Measure Score:           0.742\n",
      "    Adjusted Rand Score:       0.716\n",
      "    Adjusted Mutual Info Score: 0.739\n",
      "    Silhouette Score:          0.551\n",
      "\n"
     ]
    }
   ],
   "source": [
    "result_dict['mini_batch_kmeans_clustering'] = build_model(mini_batch_kmeans_fn, iris_features, iris_labels)"
   ]
  },
  {
   "cell_type": "markdown",
   "id": "c088d04b",
   "metadata": {},
   "source": [
    "### Spectral Clustering Using a Precomputed Matrix\n",
    "- Creates an affinity matrix of input data points.\n",
    "- Applies a methematical technique called eigenvalue (spectrum) decomposition to convert data to lower dimensional embedding.\n",
    "- Performs a pairwise similarity measurement to find clusters (akin to k-means clustering - DBSCAN is a special case of spectral clustering).\n",
    "\n",
    "Use for:\n",
    "- Small Datasets\n",
    "- Few clusters\n",
    "\n",
    "#### Notes\n",
    "- Simple to implment, intuitive results.\n",
    "- Works well with image data and is often used for image segmentation.\n",
    "- Even cluster size, fine for manifolds, relies on distance between points.\n",
    "- Can pass in a precomputed similarity matrix."
   ]
  },
  {
   "cell_type": "code",
   "execution_count": 47,
   "id": "daafa040",
   "metadata": {},
   "outputs": [],
   "source": [
    "# This will be implemented distinct from the other models, simple mock dataset\n",
    "# And first requires that we setup the similarity matrix (usually not so simple, sometimes not available)"
   ]
  },
  {
   "cell_type": "code",
   "execution_count": 38,
   "id": "2ef7a3d9",
   "metadata": {},
   "outputs": [],
   "source": [
    "from sklearn.cluster import SpectralClustering"
   ]
  },
  {
   "cell_type": "code",
   "execution_count": 39,
   "id": "5f02231c",
   "metadata": {},
   "outputs": [],
   "source": [
    "# Self-similarity, the similarity of a data point with itself\n",
    "SS = 1000"
   ]
  },
  {
   "cell_type": "code",
   "execution_count": 40,
   "id": "c907b3fb",
   "metadata": {},
   "outputs": [],
   "source": [
    "# Intra-cluster similarity, the similarity between points in a cluster\n",
    "IS = 10"
   ]
  },
  {
   "cell_type": "code",
   "execution_count": 41,
   "id": "41d3fb4f",
   "metadata": {},
   "outputs": [],
   "source": [
    "# Low similarity, between points in different clusters\n",
    "LS = 0.01"
   ]
  },
  {
   "cell_type": "code",
   "execution_count": 45,
   "id": "5abcbb33",
   "metadata": {},
   "outputs": [],
   "source": [
    "# Setup similarity matrix - 9 rows and 9 columns, 1 row and column for each data point in dataset\n",
    "# Each cell represents similarity to the other cell - see pattern (when row=col value is SS, diagonal box clusters)\n",
    "similarity_mat = [[SS, IS, IS, LS, LS, LS, LS, LS, LS],\n",
    "                  [IS, SS, IS, LS, LS, LS, LS, LS, LS],\n",
    "                  [IS, IS, SS, LS, LS, LS, LS, LS, LS],\n",
    "                  [LS, LS, LS, SS, IS, IS, LS, LS, LS],\n",
    "                  [LS, LS, LS, IS, SS, IS, LS, LS, LS],\n",
    "                  [LS, LS, LS, IS, IS, SS, LS, LS, LS],\n",
    "                  [LS, LS, LS, LS, LS, LS, SS, IS, IS],\n",
    "                  [LS, LS, LS, LS, LS, LS, IS, SS, IS],\n",
    "                  [LS, LS, LS, LS, LS, LS, IS, IS, SS]] "
   ]
  },
  {
   "cell_type": "code",
   "execution_count": 43,
   "id": "ea621174",
   "metadata": {},
   "outputs": [],
   "source": [
    "# When the input is a similarity matrix, the affinity values are already available, hence affinity=precomputed\n",
    "spectral_model = SpectralClustering(n_clusters=3, affinity='precomputed').fit(similarity_mat)"
   ]
  },
  {
   "cell_type": "code",
   "execution_count": 46,
   "id": "1cac01da",
   "metadata": {},
   "outputs": [
    {
     "data": {
      "text/plain": [
       "array([0, 0, 0, 1, 1, 1, 2, 2, 2], dtype=int32)"
      ]
     },
     "execution_count": 46,
     "metadata": {},
     "output_type": "execute_result"
    }
   ],
   "source": [
    "spectral_model.labels_\n",
    "# We had 9 points so 9 labels, each label is clustered 0-2"
   ]
  },
  {
   "cell_type": "code",
   "execution_count": null,
   "id": "f3a161d8",
   "metadata": {},
   "outputs": [],
   "source": []
  }
 ],
 "metadata": {
  "kernelspec": {
   "display_name": "Python 3 (ipykernel)",
   "language": "python",
   "name": "python3"
  },
  "language_info": {
   "codemirror_mode": {
    "name": "ipython",
    "version": 3
   },
   "file_extension": ".py",
   "mimetype": "text/x-python",
   "name": "python",
   "nbconvert_exporter": "python",
   "pygments_lexer": "ipython3",
   "version": "3.10.9"
  }
 },
 "nbformat": 4,
 "nbformat_minor": 5
}
