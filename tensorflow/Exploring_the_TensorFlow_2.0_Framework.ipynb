{
 "cells": [
  {
   "cell_type": "markdown",
   "id": "265164f8",
   "metadata": {},
   "source": [
    "# Course: Getting Started with TensorFlow 2.0\n",
    "## Module 2: Exploring the TensorFlow 2.0 Framework\n",
    "\n",
    "### TensorFlow 1.x vs TensorFlow 2.0\n",
    "- TensorFlow\n",
    "    - Novemebr 2015\n",
    "    - Google OpenSource\n",
    "    - Static Graph, Sessions, Build then Run, and Low-level Workflows\n",
    "\n",
    "- PyTorch\n",
    "    - October 2016\n",
    "    - Facebook OpenSource\n",
    "    - Dynamic Graphs & Traditional Python Workflows\n",
    "\n",
    "- TensorFlow 2\n",
    "    - Septemeber 2019\n",
    "    - Static & Dynamic Graphs, Eager Execution, and Traditional Python Workflows w/ Keras\n",
    "\n",
    "- Graphs\n",
    "    - Static Graph: Requires phase where you define the graph\n",
    "    - Dynamic Graph: Graph can be defined and executed as you go\n",
    "\n",
    "- Keras\n",
    "    - Original high-level API for multiple frameworks\n",
    "    - Now tightly-connected to TensorFlow\n",
    "\n",
    "### Introducing Neural Networks\n",
    "- Neural Network\n",
    "    - Often used synonymously with Deep Learning\n",
    "    - Family of deep learning algorithms - learn from data what features are important\n",
    "        - Traiditonal classifaciton models use a loss function to provide feedback to the model to improve the model paramaters during the training process\n",
    "        - Representation systems figure out themselves what to pay attention to, and Neural Networks are an example\n",
    "\n",
    "- Neural Network Structure\n",
    "    - Multiple layers of multiple neurons\n",
    "    - Each layer learns soemthing different from the data\n",
    "    - The learnings are put together to get final prediction\n",
    "    - Layers:\n",
    "        - Input layer (visible)\n",
    "        - Hidden layers\n",
    "        - Output layer (visible)\n",
    "\n",
    "### Neurons and Activation Function\n",
    "\n",
    "- A neuron is a simple mathematical function and is the building block of a neural network\n",
    "- Takes several x inputs, the function operates on those inputs and produces a single y output\n",
    "- For an active neuron, a change in inputs should trigger a corresponding change in the outputs\n",
    "- The outputs of neurons in one layer feed into the neurons of the next layer\n",
    "- Connection between neurons are associated with a weight (w), the strength of the connection\n",
    "    - If the next-layer neuron is sensitve to the output of the first, the connection gets stronger (w increases)\n",
    "- The neuron structure forms a computation graph\n",
    "- The graph edges are data called tensors (the neuron output)\n",
    "- The goal of training is the find the model parameters, meaning all edges have weights helping make predictions\n",
    "- Each neuron applies two simple functions to the input:\n",
    "    - Affine transformation\n",
    "        - Learns linear relationships that exist between inputs and output\n",
    "        - Weighted sum of the inputs with an added bias (weights and biases are the model parameters)\n",
    "    - Activation function\n",
    "        - Output of Affine transformation is fed into activation function\n",
    "        - Helps discover non-linear relationships between inputs and output\n",
    "        - This function is custom defined, it is an important model design choice\n",
    "        - It is non-linear in nature, it's gradient allows it to be sensitive to input changes\n",
    "        - An \"identity function\" is one that doesn't change the input, making the neuron a linear neuron (can only learn linear relationships)\n",
    "        - The funcion should operate in the active region during training, enabling weights to be adjusted\n",
    "            - The outout does not change when inputs are tweaked in the saturation region\n",
    "        - Common activation functions:\n",
    "            - ReLU (most common) - Rectified Linear Unit, returns x or 0 if x < 0 $ max(0,x) $\n",
    "            - logit (SoftMax) - Outputs a number between 0 and 1, interpreted as probability, s/logit curve\n",
    "            - tanh\n",
    "            - step\n",
    "- The combination of the addine transformation and the activation function can learn any arbitrary relationship"
   ]
  },
  {
   "cell_type": "markdown",
   "id": "85820b62",
   "metadata": {},
   "source": [
    "### Demo: Tensors and Tensor Operations\n",
    "Tensors are multidimensional arrays, similiar to numpy arrays but are meant to be stored and processed on multiple devices (GPUs and CPUs) for distributed neural network training.\n",
    "\n",
    "Tensors are immtutable."
   ]
  },
  {
   "cell_type": "code",
   "execution_count": 4,
   "id": "ca1f67a2",
   "metadata": {},
   "outputs": [],
   "source": [
    "import tensorflow as tf\n",
    "import numpy as np"
   ]
  },
  {
   "cell_type": "code",
   "execution_count": 5,
   "id": "22a59685",
   "metadata": {},
   "outputs": [],
   "source": [
    "# Add logging for tensor locations\n",
    "tf.debugging.set_log_device_placement(True)"
   ]
  },
  {
   "cell_type": "code",
   "execution_count": 7,
   "id": "c6338a4f",
   "metadata": {},
   "outputs": [
    {
     "data": {
      "text/plain": [
       "True"
      ]
     },
     "execution_count": 7,
     "metadata": {},
     "output_type": "execute_result"
    }
   ],
   "source": [
    "# Verify the graphs are setup to execute eagerly\n",
    "tf.executing_eagerly()"
   ]
  },
  {
   "cell_type": "code",
   "execution_count": 9,
   "id": "99b87423",
   "metadata": {},
   "outputs": [
    {
     "data": {
      "text/plain": [
       "<tf.Tensor: shape=(), dtype=int32, numpy=3>"
      ]
     },
     "execution_count": 9,
     "metadata": {},
     "output_type": "execute_result"
    }
   ],
   "source": [
    "# Tensors are multi-D array but can also be scalars\n",
    "x0 = tf.constant(3)\n",
    "\n",
    "x0"
   ]
  },
  {
   "cell_type": "code",
   "execution_count": 10,
   "id": "7b714d7f",
   "metadata": {},
   "outputs": [
    {
     "data": {
      "text/plain": [
       "TensorShape([])"
      ]
     },
     "execution_count": 10,
     "metadata": {},
     "output_type": "execute_result"
    }
   ],
   "source": [
    "x0.shape"
   ]
  },
  {
   "cell_type": "code",
   "execution_count": 11,
   "id": "3ee8a7f6",
   "metadata": {},
   "outputs": [
    {
     "data": {
      "text/plain": [
       "tf.int32"
      ]
     },
     "execution_count": 11,
     "metadata": {},
     "output_type": "execute_result"
    }
   ],
   "source": [
    "x0.dtype"
   ]
  },
  {
   "cell_type": "code",
   "execution_count": 13,
   "id": "3de08d6c",
   "metadata": {},
   "outputs": [
    {
     "data": {
      "text/plain": [
       "3"
      ]
     },
     "execution_count": 13,
     "metadata": {},
     "output_type": "execute_result"
    }
   ],
   "source": [
    "x0.numpy()"
   ]
  },
  {
   "cell_type": "code",
   "execution_count": 14,
   "id": "79405977",
   "metadata": {},
   "outputs": [
    {
     "name": "stdout",
     "output_type": "stream",
     "text": [
      "Executing op _EagerConst in device /job:localhost/replica:0/task:0/device:CPU:0\n",
      "Executing op AddV2 in device /job:localhost/replica:0/task:0/device:CPU:0\n"
     ]
    },
    {
     "name": "stderr",
     "output_type": "stream",
     "text": [
      "2023-09-21 11:15:10.296230: I tensorflow/core/common_runtime/placer.cc:114] x: (_DeviceArg): /job:localhost/replica:0/task:0/device:CPU:0\n",
      "2023-09-21 11:15:10.296284: I tensorflow/core/common_runtime/placer.cc:114] y: (_DeviceArg): /job:localhost/replica:0/task:0/device:CPU:0\n",
      "2023-09-21 11:15:10.296302: I tensorflow/core/common_runtime/placer.cc:114] AddV2: (AddV2): /job:localhost/replica:0/task:0/device:CPU:0\n",
      "2023-09-21 11:15:10.296312: I tensorflow/core/common_runtime/placer.cc:114] z_RetVal: (_DeviceRetval): /job:localhost/replica:0/task:0/device:CPU:0\n"
     ]
    },
    {
     "data": {
      "text/plain": [
       "<tf.Tensor: shape=(), dtype=int32, numpy=8>"
      ]
     },
     "execution_count": 14,
     "metadata": {},
     "output_type": "execute_result"
    }
   ],
   "source": [
    "# Add a scalar\n",
    "result0 = x0 + 5\n",
    "\n",
    "result0"
   ]
  },
  {
   "cell_type": "code",
   "execution_count": 16,
   "id": "918eca3d",
   "metadata": {},
   "outputs": [
    {
     "name": "stdout",
     "output_type": "stream",
     "text": [
      "Executing op _EagerConst in device /job:localhost/replica:0/task:0/device:CPU:0\n"
     ]
    },
    {
     "name": "stderr",
     "output_type": "stream",
     "text": [
      "2023-09-21 11:17:14.370972: I tensorflow/core/common_runtime/placer.cc:114] input: (_Arg): /job:localhost/replica:0/task:0/device:CPU:0\n",
      "2023-09-21 11:17:14.370998: I tensorflow/core/common_runtime/placer.cc:114] _EagerConst: (_EagerConst): /job:localhost/replica:0/task:0/device:CPU:0\n",
      "2023-09-21 11:17:14.371007: I tensorflow/core/common_runtime/placer.cc:114] output_RetVal: (_Retval): /job:localhost/replica:0/task:0/device:CPU:0\n"
     ]
    },
    {
     "data": {
      "text/plain": [
       "<tf.Tensor: shape=(4,), dtype=float32, numpy=array([1.1, 2.2, 3.3, 4.4], dtype=float32)>"
      ]
     },
     "execution_count": 16,
     "metadata": {},
     "output_type": "execute_result"
    }
   ],
   "source": [
    "# Create vector (1D array) tensor \n",
    "x1 = tf.constant([1.1, 2.2, 3.3, 4.4])\n",
    "\n",
    "x1"
   ]
  },
  {
   "cell_type": "code",
   "execution_count": 17,
   "id": "2ae66abc",
   "metadata": {},
   "outputs": [
    {
     "name": "stdout",
     "output_type": "stream",
     "text": [
      "Executing op _EagerConst in device /job:localhost/replica:0/task:0/device:CPU:0\n",
      "Executing op AddV2 in device /job:localhost/replica:0/task:0/device:CPU:0\n"
     ]
    },
    {
     "name": "stderr",
     "output_type": "stream",
     "text": [
      "2023-09-21 11:18:04.470089: I tensorflow/core/common_runtime/placer.cc:114] x: (_Arg): /job:localhost/replica:0/task:0/device:CPU:0\n",
      "2023-09-21 11:18:04.470130: I tensorflow/core/common_runtime/placer.cc:114] y: (_Arg): /job:localhost/replica:0/task:0/device:CPU:0\n",
      "2023-09-21 11:18:04.470147: I tensorflow/core/common_runtime/placer.cc:114] AddV2: (AddV2): /job:localhost/replica:0/task:0/device:CPU:0\n",
      "2023-09-21 11:18:04.470158: I tensorflow/core/common_runtime/placer.cc:114] z_RetVal: (_Retval): /job:localhost/replica:0/task:0/device:CPU:0\n"
     ]
    },
    {
     "data": {
      "text/plain": [
       "<tf.Tensor: shape=(4,), dtype=float32, numpy=array([6.1, 7.2, 8.3, 9.4], dtype=float32)>"
      ]
     },
     "execution_count": 17,
     "metadata": {},
     "output_type": "execute_result"
    }
   ],
   "source": [
    "# Add a scaler to the vector via broadcasting\n",
    "result1 = x1 + 5\n",
    "\n",
    "result1"
   ]
  },
  {
   "cell_type": "code",
   "execution_count": 19,
   "id": "cbea3238",
   "metadata": {},
   "outputs": [
    {
     "name": "stdout",
     "output_type": "stream",
     "text": [
      "Executing op _EagerConst in device /job:localhost/replica:0/task:0/device:CPU:0\n",
      "Executing op AddV2 in device /job:localhost/replica:0/task:0/device:CPU:0\n"
     ]
    },
    {
     "data": {
      "text/plain": [
       "<tf.Tensor: shape=(4,), dtype=float32, numpy=array([6.1, 7.2, 8.3, 9.4], dtype=float32)>"
      ]
     },
     "execution_count": 19,
     "metadata": {},
     "output_type": "execute_result"
    }
   ],
   "source": [
    "# Add two tensors\n",
    "result1 = x1 + tf.constant(5.0)\n",
    "\n",
    "result1"
   ]
  },
  {
   "cell_type": "code",
   "execution_count": 23,
   "id": "5f2116b3",
   "metadata": {},
   "outputs": [
    {
     "name": "stdout",
     "output_type": "stream",
     "text": [
      "Executing op AddV2 in device /job:localhost/replica:0/task:0/device:CPU:0\n"
     ]
    },
    {
     "data": {
      "text/plain": [
       "<tf.Tensor: shape=(4,), dtype=float32, numpy=array([6.1, 7.2, 8.3, 9.4], dtype=float32)>"
      ]
     },
     "execution_count": 23,
     "metadata": {},
     "output_type": "execute_result"
    }
   ],
   "source": [
    "# Add using add method rather than +\n",
    "result1 = tf.add(x1, tf.constant(5.0))\n",
    "\n",
    "result1"
   ]
  },
  {
   "cell_type": "code",
   "execution_count": 21,
   "id": "68da0739",
   "metadata": {},
   "outputs": [
    {
     "name": "stdout",
     "output_type": "stream",
     "text": [
      "Executing op _EagerConst in device /job:localhost/replica:0/task:0/device:CPU:0\n"
     ]
    },
    {
     "data": {
      "text/plain": [
       "<tf.Tensor: shape=(2, 4), dtype=int32, numpy=\n",
       "array([[1, 2, 3, 4],\n",
       "       [5, 6, 7, 8]], dtype=int32)>"
      ]
     },
     "execution_count": 21,
     "metadata": {},
     "output_type": "execute_result"
    }
   ],
   "source": [
    "# Create 2D tensor\n",
    "x2 = tf.constant([[1, 2, 3, 4], [5, 6, 7, 8]])\n",
    "\n",
    "x2"
   ]
  },
  {
   "cell_type": "code",
   "execution_count": 22,
   "id": "c9f41e04",
   "metadata": {},
   "outputs": [
    {
     "name": "stdout",
     "output_type": "stream",
     "text": [
      "Executing op Cast in device /job:localhost/replica:0/task:0/device:CPU:0\n"
     ]
    },
    {
     "name": "stderr",
     "output_type": "stream",
     "text": [
      "2023-09-21 11:21:55.545433: I tensorflow/core/common_runtime/placer.cc:114] x: (_DeviceArg): /job:localhost/replica:0/task:0/device:CPU:0\n",
      "2023-09-21 11:21:55.545462: I tensorflow/core/common_runtime/placer.cc:114] Cast: (Cast): /job:localhost/replica:0/task:0/device:CPU:0\n",
      "2023-09-21 11:21:55.545471: I tensorflow/core/common_runtime/placer.cc:114] y_RetVal: (_Retval): /job:localhost/replica:0/task:0/device:CPU:0\n"
     ]
    },
    {
     "data": {
      "text/plain": [
       "<tf.Tensor: shape=(2, 4), dtype=float32, numpy=\n",
       "array([[1., 2., 3., 4.],\n",
       "       [5., 6., 7., 8.]], dtype=float32)>"
      ]
     },
     "execution_count": 22,
     "metadata": {},
     "output_type": "execute_result"
    }
   ],
   "source": [
    "# Change the tensor data type\n",
    "x2 = tf.cast(x2, tf.float32)\n",
    "\n",
    "x2"
   ]
  },
  {
   "cell_type": "code",
   "execution_count": 25,
   "id": "12219768",
   "metadata": {},
   "outputs": [
    {
     "name": "stdout",
     "output_type": "stream",
     "text": [
      "Executing op Mul in device /job:localhost/replica:0/task:0/device:CPU:0\n"
     ]
    },
    {
     "name": "stderr",
     "output_type": "stream",
     "text": [
      "2023-09-21 11:28:42.645377: I tensorflow/core/common_runtime/placer.cc:114] x: (_Arg): /job:localhost/replica:0/task:0/device:CPU:0\n",
      "2023-09-21 11:28:42.645405: I tensorflow/core/common_runtime/placer.cc:114] y: (_Arg): /job:localhost/replica:0/task:0/device:CPU:0\n",
      "2023-09-21 11:28:42.645420: I tensorflow/core/common_runtime/placer.cc:114] Mul: (Mul): /job:localhost/replica:0/task:0/device:CPU:0\n",
      "2023-09-21 11:28:42.645430: I tensorflow/core/common_runtime/placer.cc:114] z_RetVal: (_Retval): /job:localhost/replica:0/task:0/device:CPU:0\n"
     ]
    },
    {
     "data": {
      "text/plain": [
       "<tf.Tensor: shape=(2, 4), dtype=float32, numpy=\n",
       "array([[ 1.1     ,  4.4     ,  9.9     , 17.6     ],\n",
       "       [ 5.5     , 13.200001, 23.1     , 35.2     ]], dtype=float32)>"
      ]
     },
     "execution_count": 25,
     "metadata": {},
     "output_type": "execute_result"
    }
   ],
   "source": [
    "# Multipy tensors - note tensor shapes need to be compatible for a given operation\n",
    "result3 = tf.multiply(x1, x2)\n",
    "\n",
    "result3"
   ]
  },
  {
   "cell_type": "code",
   "execution_count": 26,
   "id": "34ab0fea",
   "metadata": {},
   "outputs": [
    {
     "data": {
      "text/plain": [
       "<tf.Tensor: shape=(4,), dtype=float32, numpy=array([1.1, 2.2, 3.3, 4.4], dtype=float32)>"
      ]
     },
     "execution_count": 26,
     "metadata": {},
     "output_type": "execute_result"
    }
   ],
   "source": [
    "x1"
   ]
  },
  {
   "cell_type": "code",
   "execution_count": 28,
   "id": "e961fcdb",
   "metadata": {},
   "outputs": [
    {
     "data": {
      "text/plain": [
       "array([1.1, 2.2, 3.3, 4.4], dtype=float32)"
      ]
     },
     "execution_count": 28,
     "metadata": {},
     "output_type": "execute_result"
    }
   ],
   "source": [
    "# Convert tensor to numpy array\n",
    "arr_x1 = x1.numpy()\n",
    "\n",
    "arr_x1"
   ]
  },
  {
   "cell_type": "code",
   "execution_count": 29,
   "id": "1fbb6707",
   "metadata": {},
   "outputs": [
    {
     "data": {
      "text/plain": [
       "array([[10, 20],\n",
       "       [30, 40],\n",
       "       [50, 60]])"
      ]
     },
     "execution_count": 29,
     "metadata": {},
     "output_type": "execute_result"
    }
   ],
   "source": [
    "arr_x4 = np.array([[10, 20], [30, 40], [50, 60]])\n",
    "\n",
    "arr_x4"
   ]
  },
  {
   "cell_type": "code",
   "execution_count": 30,
   "id": "9f93c659",
   "metadata": {},
   "outputs": [
    {
     "name": "stdout",
     "output_type": "stream",
     "text": [
      "Executing op _EagerConst in device /job:localhost/replica:0/task:0/device:CPU:0\n"
     ]
    },
    {
     "name": "stderr",
     "output_type": "stream",
     "text": [
      "2023-09-21 11:35:22.087189: I tensorflow/core/common_runtime/placer.cc:114] input: (_Arg): /job:localhost/replica:0/task:0/device:CPU:0\n",
      "2023-09-21 11:35:22.087217: I tensorflow/core/common_runtime/placer.cc:114] _EagerConst: (_EagerConst): /job:localhost/replica:0/task:0/device:CPU:0\n",
      "2023-09-21 11:35:22.087226: I tensorflow/core/common_runtime/placer.cc:114] output_RetVal: (_Retval): /job:localhost/replica:0/task:0/device:CPU:0\n"
     ]
    },
    {
     "data": {
      "text/plain": [
       "<tf.Tensor: shape=(3, 2), dtype=int64, numpy=\n",
       "array([[10, 20],\n",
       "       [30, 40],\n",
       "       [50, 60]])>"
      ]
     },
     "execution_count": 30,
     "metadata": {},
     "output_type": "execute_result"
    }
   ],
   "source": [
    "# Convert numpy array to tensor\n",
    "x4 = tf.convert_to_tensor(arr_x4)\n",
    "\n",
    "x4"
   ]
  },
  {
   "cell_type": "code",
   "execution_count": 38,
   "id": "715a3ace",
   "metadata": {},
   "outputs": [
    {
     "name": "stdout",
     "output_type": "stream",
     "text": [
      "original:  tf.Tensor(\n",
      "[[1. 2. 3. 4.]\n",
      " [5. 6. 7. 8.]], shape=(2, 4), dtype=float32)\n",
      "square:  [[ 1.  4.  9. 16.]\n",
      " [25. 36. 49. 64.]]\n",
      "sqrt:  [[1.        1.4142135 1.7320508 2.       ]\n",
      " [2.236068  2.4494898 2.6457512 2.828427 ]]\n"
     ]
    }
   ],
   "source": [
    "# numpy operations are compatible with tensors\n",
    "\n",
    "print(\"original: \", x2)\n",
    "print(\"square: \", np.square(x2))\n",
    "print(\"sqrt: \", np.sqrt(x2))\n",
    "\n",
    "# but not recommended as they are not part of the tensorflow computation graph and can cause issues"
   ]
  },
  {
   "cell_type": "code",
   "execution_count": 39,
   "id": "f359178d",
   "metadata": {},
   "outputs": [
    {
     "data": {
      "text/plain": [
       "False"
      ]
     },
     "execution_count": 39,
     "metadata": {},
     "output_type": "execute_result"
    }
   ],
   "source": [
    "# Check if variable is a tensor\n",
    "tf.is_tensor(arr_x4)"
   ]
  },
  {
   "cell_type": "code",
   "execution_count": 40,
   "id": "3ca42eed",
   "metadata": {},
   "outputs": [
    {
     "data": {
      "text/plain": [
       "True"
      ]
     },
     "execution_count": 40,
     "metadata": {},
     "output_type": "execute_result"
    }
   ],
   "source": [
    "tf.is_tensor(x4)"
   ]
  },
  {
   "cell_type": "code",
   "execution_count": 44,
   "id": "a38b275a",
   "metadata": {},
   "outputs": [
    {
     "name": "stdout",
     "output_type": "stream",
     "text": [
      "Executing op _EagerConst in device /job:localhost/replica:0/task:0/device:CPU:0\n",
      "Executing op Fill in device /job:localhost/replica:0/task:0/device:CPU:0\n"
     ]
    },
    {
     "data": {
      "text/plain": [
       "<tf.Tensor: shape=(3, 5), dtype=int32, numpy=\n",
       "array([[0, 0, 0, 0, 0],\n",
       "       [0, 0, 0, 0, 0],\n",
       "       [0, 0, 0, 0, 0]], dtype=int32)>"
      ]
     },
     "execution_count": 44,
     "metadata": {},
     "output_type": "execute_result"
    }
   ],
   "source": [
    "# Helper to initialize tensor with zeros in specified shape\n",
    "t0 = tf.zeros([3, 5], tf.int32)\n",
    "\n",
    "t0"
   ]
  },
  {
   "cell_type": "code",
   "execution_count": 45,
   "id": "504dcf2c",
   "metadata": {},
   "outputs": [
    {
     "name": "stdout",
     "output_type": "stream",
     "text": [
      "Executing op _EagerConst in device /job:localhost/replica:0/task:0/device:CPU:0\n",
      "Executing op Fill in device /job:localhost/replica:0/task:0/device:CPU:0\n"
     ]
    },
    {
     "data": {
      "text/plain": [
       "<tf.Tensor: shape=(3, 5), dtype=int32, numpy=\n",
       "array([[1, 1, 1, 1, 1],\n",
       "       [1, 1, 1, 1, 1],\n",
       "       [1, 1, 1, 1, 1]], dtype=int32)>"
      ]
     },
     "execution_count": 45,
     "metadata": {},
     "output_type": "execute_result"
    }
   ],
   "source": [
    "# Same with ones\n",
    "t1 = tf.ones([3, 5], tf.int32)\n",
    "\n",
    "t1"
   ]
  },
  {
   "cell_type": "code",
   "execution_count": 46,
   "id": "028cd6fd",
   "metadata": {},
   "outputs": [
    {
     "name": "stdout",
     "output_type": "stream",
     "text": [
      "Executing op _EagerConst in device /job:localhost/replica:0/task:0/device:CPU:0\n",
      "Executing op Reshape in device /job:localhost/replica:0/task:0/device:CPU:0\n"
     ]
    },
    {
     "name": "stderr",
     "output_type": "stream",
     "text": [
      "2023-09-21 11:43:15.856982: I tensorflow/core/common_runtime/placer.cc:114] tensor: (_DeviceArg): /job:localhost/replica:0/task:0/device:CPU:0\n",
      "2023-09-21 11:43:15.857013: I tensorflow/core/common_runtime/placer.cc:114] shape: (_DeviceArg): /job:localhost/replica:0/task:0/device:CPU:0\n",
      "2023-09-21 11:43:15.857028: I tensorflow/core/common_runtime/placer.cc:114] Reshape: (Reshape): /job:localhost/replica:0/task:0/device:CPU:0\n",
      "2023-09-21 11:43:15.857039: I tensorflow/core/common_runtime/placer.cc:114] output_RetVal: (_DeviceRetval): /job:localhost/replica:0/task:0/device:CPU:0\n"
     ]
    },
    {
     "data": {
      "text/plain": [
       "<tf.Tensor: shape=(5, 3), dtype=int32, numpy=\n",
       "array([[0, 0, 0],\n",
       "       [0, 0, 0],\n",
       "       [0, 0, 0],\n",
       "       [0, 0, 0],\n",
       "       [0, 0, 0]], dtype=int32)>"
      ]
     },
     "execution_count": 46,
     "metadata": {},
     "output_type": "execute_result"
    }
   ],
   "source": [
    "# Reshape a tensor (must match original number of elements)\n",
    "t0_reshaped = tf.reshape(t0, (5, 3))\n",
    "\n",
    "t0_reshaped"
   ]
  },
  {
   "cell_type": "markdown",
   "id": "9a488ac1",
   "metadata": {},
   "source": [
    "### Demo: Variables\n",
    "Vriables are the recommended way to share persistent state in a TensorFlow program.\n",
    "\n",
    "Variables are mutable, can be thought of a mutable container holding tensors.\n",
    "\n",
    "Tensors held by a variable can be mutated or changes by running operations on the variable."
   ]
  },
  {
   "cell_type": "code",
   "execution_count": 48,
   "id": "a86dddee",
   "metadata": {},
   "outputs": [
    {
     "name": "stdout",
     "output_type": "stream",
     "text": [
      "Executing op _EagerConst in device /job:localhost/replica:0/task:0/device:CPU:0\n",
      "Executing op VarHandleOp in device /job:localhost/replica:0/task:0/device:CPU:0\n",
      "Executing op AssignVariableOp in device /job:localhost/replica:0/task:0/device:CPU:0\n",
      "Executing op ReadVariableOp in device /job:localhost/replica:0/task:0/device:CPU:0\n",
      "Executing op Identity in device /job:localhost/replica:0/task:0/device:CPU:0\n"
     ]
    },
    {
     "name": "stderr",
     "output_type": "stream",
     "text": [
      "2023-09-21 13:50:31.068165: I tensorflow/core/common_runtime/placer.cc:114] resource: (_Arg): /job:localhost/replica:0/task:0/device:CPU:0\n",
      "2023-09-21 13:50:31.068192: I tensorflow/core/common_runtime/placer.cc:114] ReadVariableOp: (ReadVariableOp): /job:localhost/replica:0/task:0/device:CPU:0\n",
      "2023-09-21 13:50:31.068199: I tensorflow/core/common_runtime/placer.cc:114] value_RetVal: (_Retval): /job:localhost/replica:0/task:0/device:CPU:0\n",
      "2023-09-21 13:50:31.073443: I tensorflow/core/common_runtime/placer.cc:114] input: (_Arg): /job:localhost/replica:0/task:0/device:CPU:0\n",
      "2023-09-21 13:50:31.073466: I tensorflow/core/common_runtime/placer.cc:114] Identity: (Identity): /job:localhost/replica:0/task:0/device:CPU:0\n",
      "2023-09-21 13:50:31.073473: I tensorflow/core/common_runtime/placer.cc:114] output_RetVal: (_Retval): /job:localhost/replica:0/task:0/device:CPU:0\n"
     ]
    },
    {
     "data": {
      "text/plain": [
       "<tf.Variable 'Variable:0' shape=(2, 3) dtype=float32, numpy=\n",
       "array([[1.5, 2. , 5. ],\n",
       "       [2. , 6. , 8. ]], dtype=float32)>"
      ]
     },
     "execution_count": 48,
     "metadata": {},
     "output_type": "execute_result"
    }
   ],
   "source": [
    "# Instantiate a variable\n",
    "\n",
    "v1 = tf.Variable([[1.5, 2, 5], [2, 6, 8]])\n",
    "\n",
    "v1"
   ]
  },
  {
   "cell_type": "code",
   "execution_count": 52,
   "id": "4c2bde50",
   "metadata": {},
   "outputs": [
    {
     "name": "stdout",
     "output_type": "stream",
     "text": [
      "Executing op _EagerConst in device /job:localhost/replica:0/task:0/device:CPU:0\n",
      "Executing op VarHandleOp in device /job:localhost/replica:0/task:0/device:CPU:0\n",
      "Executing op AssignVariableOp in device /job:localhost/replica:0/task:0/device:CPU:0\n",
      "Executing op ReadVariableOp in device /job:localhost/replica:0/task:0/device:CPU:0\n",
      "Executing op Identity in device /job:localhost/replica:0/task:0/device:CPU:0\n"
     ]
    },
    {
     "data": {
      "text/plain": [
       "<tf.Variable 'Variable:0' shape=(3,) dtype=float32, numpy=array([1., 2., 3.], dtype=float32)>"
      ]
     },
     "execution_count": 52,
     "metadata": {},
     "output_type": "execute_result"
    }
   ],
   "source": [
    "# You can specify a type otherwise it will infer it\n",
    "v2 = tf.Variable([1, 2, 3], [4, 5, 6], dtype=tf.float32)\n",
    "\n",
    "v2"
   ]
  },
  {
   "cell_type": "code",
   "execution_count": 53,
   "id": "c33c58ea",
   "metadata": {},
   "outputs": [
    {
     "name": "stdout",
     "output_type": "stream",
     "text": [
      "Executing op ReadVariableOp in device /job:localhost/replica:0/task:0/device:CPU:0\n",
      "Executing op ReadVariableOp in device /job:localhost/replica:0/task:0/device:CPU:0\n",
      "Executing op AddV2 in device /job:localhost/replica:0/task:0/device:CPU:0\n"
     ]
    },
    {
     "data": {
      "text/plain": [
       "<tf.Tensor: shape=(2, 3), dtype=float32, numpy=\n",
       "array([[ 2.5,  4. ,  8. ],\n",
       "       [ 3. ,  8. , 11. ]], dtype=float32)>"
      ]
     },
     "execution_count": 53,
     "metadata": {},
     "output_type": "execute_result"
    }
   ],
   "source": [
    "# Operate on variables (operates on the underlying tensors)\n",
    "tf.add(v1, v2)"
   ]
  },
  {
   "cell_type": "code",
   "execution_count": 55,
   "id": "aa0fcebe",
   "metadata": {},
   "outputs": [
    {
     "name": "stdout",
     "output_type": "stream",
     "text": [
      "Executing op ReadVariableOp in device /job:localhost/replica:0/task:0/device:CPU:0\n"
     ]
    },
    {
     "data": {
      "text/plain": [
       "<tf.Tensor: shape=(2, 3), dtype=float32, numpy=\n",
       "array([[1.5, 2. , 5. ],\n",
       "       [2. , 6. , 8. ]], dtype=float32)>"
      ]
     },
     "execution_count": 55,
     "metadata": {},
     "output_type": "execute_result"
    }
   ],
   "source": [
    "# Convert variable to tensor\n",
    "tf.convert_to_tensor(v1)"
   ]
  },
  {
   "cell_type": "code",
   "execution_count": 56,
   "id": "4902f37b",
   "metadata": {},
   "outputs": [
    {
     "name": "stdout",
     "output_type": "stream",
     "text": [
      "Executing op ReadVariableOp in device /job:localhost/replica:0/task:0/device:CPU:0\n",
      "Executing op Identity in device /job:localhost/replica:0/task:0/device:CPU:0\n"
     ]
    },
    {
     "data": {
      "text/plain": [
       "array([[1.5, 2. , 5. ],\n",
       "       [2. , 6. , 8. ]], dtype=float32)"
      ]
     },
     "execution_count": 56,
     "metadata": {},
     "output_type": "execute_result"
    }
   ],
   "source": [
    "# Get the numpy representation of the underlying tensor\n",
    "v1.numpy()"
   ]
  },
  {
   "cell_type": "code",
   "execution_count": 57,
   "id": "6ed0b73e",
   "metadata": {},
   "outputs": [
    {
     "name": "stdout",
     "output_type": "stream",
     "text": [
      "Executing op ReadVariableOp in device /job:localhost/replica:0/task:0/device:CPU:0\n",
      "Executing op Identity in device /job:localhost/replica:0/task:0/device:CPU:0\n"
     ]
    },
    {
     "data": {
      "text/plain": [
       "<tf.Variable 'Variable:0' shape=(2, 3) dtype=float32, numpy=\n",
       "array([[1.5, 2. , 5. ],\n",
       "       [2. , 6. , 8. ]], dtype=float32)>"
      ]
     },
     "execution_count": 57,
     "metadata": {},
     "output_type": "execute_result"
    }
   ],
   "source": [
    "# Observe the original tensor value within this variable\n",
    "v1"
   ]
  },
  {
   "cell_type": "code",
   "execution_count": 59,
   "id": "49ef2186",
   "metadata": {},
   "outputs": [
    {
     "name": "stdout",
     "output_type": "stream",
     "text": [
      "Executing op _EagerConst in device /job:localhost/replica:0/task:0/device:CPU:0\n",
      "Executing op AssignVariableOp in device /job:localhost/replica:0/task:0/device:CPU:0\n",
      "Executing op ReadVariableOp in device /job:localhost/replica:0/task:0/device:CPU:0\n",
      "Executing op Identity in device /job:localhost/replica:0/task:0/device:CPU:0\n"
     ]
    },
    {
     "name": "stderr",
     "output_type": "stream",
     "text": [
      "2023-09-21 13:58:09.155837: I tensorflow/core/common_runtime/placer.cc:114] resource: (_Arg): /job:localhost/replica:0/task:0/device:CPU:0\n",
      "2023-09-21 13:58:09.155861: I tensorflow/core/common_runtime/placer.cc:114] value: (_Arg): /job:localhost/replica:0/task:0/device:CPU:0\n",
      "2023-09-21 13:58:09.155873: I tensorflow/core/common_runtime/placer.cc:114] AssignVariableOp: (AssignVariableOp): /job:localhost/replica:0/task:0/device:CPU:0\n"
     ]
    },
    {
     "data": {
      "text/plain": [
       "<tf.Variable 'Variable:0' shape=(2, 3) dtype=float32, numpy=\n",
       "array([[10., 20., 30.],\n",
       "       [40., 50., 60.]], dtype=float32)>"
      ]
     },
     "execution_count": 59,
     "metadata": {},
     "output_type": "execute_result"
    }
   ],
   "source": [
    "# Notice that we can mutate it, in this case by assigning new values\n",
    "v1.assign([[10, 20, 30], [40, 50, 60]])\n",
    "\n",
    "v1"
   ]
  },
  {
   "cell_type": "code",
   "execution_count": 60,
   "id": "4d5795d8",
   "metadata": {},
   "outputs": [
    {
     "name": "stdout",
     "output_type": "stream",
     "text": [
      "Executing op ReadVariableOp in device /job:localhost/replica:0/task:0/device:CPU:0\n",
      "Executing op _EagerConst in device /job:localhost/replica:0/task:0/device:CPU:0\n",
      "Executing op _EagerConst in device /job:localhost/replica:0/task:0/device:CPU:0\n",
      "Executing op _EagerConst in device /job:localhost/replica:0/task:0/device:CPU:0\n",
      "Executing op StridedSlice in device /job:localhost/replica:0/task:0/device:CPU:0\n",
      "Executing op _EagerConst in device /job:localhost/replica:0/task:0/device:CPU:0\n",
      "Executing op ResourceStridedSliceAssign in device /job:localhost/replica:0/task:0/device:CPU:0\n",
      "Executing op ReadVariableOp in device /job:localhost/replica:0/task:0/device:CPU:0\n",
      "Executing op Identity in device /job:localhost/replica:0/task:0/device:CPU:0\n"
     ]
    },
    {
     "name": "stderr",
     "output_type": "stream",
     "text": [
      "2023-09-21 13:59:11.629980: I tensorflow/core/common_runtime/placer.cc:114] input: (_Arg): /job:localhost/replica:0/task:0/device:CPU:0\n",
      "2023-09-21 13:59:11.630006: I tensorflow/core/common_runtime/placer.cc:114] begin: (_DeviceArg): /job:localhost/replica:0/task:0/device:CPU:0\n",
      "2023-09-21 13:59:11.630015: I tensorflow/core/common_runtime/placer.cc:114] end: (_DeviceArg): /job:localhost/replica:0/task:0/device:CPU:0\n",
      "2023-09-21 13:59:11.630022: I tensorflow/core/common_runtime/placer.cc:114] strides: (_DeviceArg): /job:localhost/replica:0/task:0/device:CPU:0\n",
      "2023-09-21 13:59:11.630032: I tensorflow/core/common_runtime/placer.cc:114] StridedSlice: (StridedSlice): /job:localhost/replica:0/task:0/device:CPU:0\n",
      "2023-09-21 13:59:11.630039: I tensorflow/core/common_runtime/placer.cc:114] output_RetVal: (_Retval): /job:localhost/replica:0/task:0/device:CPU:0\n",
      "2023-09-21 13:59:11.638401: I tensorflow/core/common_runtime/placer.cc:114] ref: (_Arg): /job:localhost/replica:0/task:0/device:CPU:0\n",
      "2023-09-21 13:59:11.638421: I tensorflow/core/common_runtime/placer.cc:114] begin: (_DeviceArg): /job:localhost/replica:0/task:0/device:CPU:0\n",
      "2023-09-21 13:59:11.638427: I tensorflow/core/common_runtime/placer.cc:114] end: (_DeviceArg): /job:localhost/replica:0/task:0/device:CPU:0\n",
      "2023-09-21 13:59:11.638432: I tensorflow/core/common_runtime/placer.cc:114] strides: (_DeviceArg): /job:localhost/replica:0/task:0/device:CPU:0\n",
      "2023-09-21 13:59:11.638437: I tensorflow/core/common_runtime/placer.cc:114] value: (_Arg): /job:localhost/replica:0/task:0/device:CPU:0\n",
      "2023-09-21 13:59:11.638444: I tensorflow/core/common_runtime/placer.cc:114] ResourceStridedSliceAssign: (ResourceStridedSliceAssign): /job:localhost/replica:0/task:0/device:CPU:0\n"
     ]
    },
    {
     "data": {
      "text/plain": [
       "<tf.Variable 'Variable:0' shape=(2, 3) dtype=float32, numpy=\n",
       "array([[100.,  20.,  30.],\n",
       "       [ 40.,  50.,  60.]], dtype=float32)>"
      ]
     },
     "execution_count": 60,
     "metadata": {},
     "output_type": "execute_result"
    }
   ],
   "source": [
    "# And in this case we assign a value to a specific element within the underlying tensor\n",
    "v1[0, 0].assign(100)\n",
    "\n",
    "v1"
   ]
  },
  {
   "cell_type": "code",
   "execution_count": 61,
   "id": "2dd38fe1",
   "metadata": {},
   "outputs": [
    {
     "name": "stdout",
     "output_type": "stream",
     "text": [
      "Executing op _EagerConst in device /job:localhost/replica:0/task:0/device:CPU:0\n",
      "Executing op AssignAddVariableOp in device /job:localhost/replica:0/task:0/device:CPU:0\n",
      "Executing op ReadVariableOp in device /job:localhost/replica:0/task:0/device:CPU:0\n",
      "Executing op Identity in device /job:localhost/replica:0/task:0/device:CPU:0\n"
     ]
    },
    {
     "name": "stderr",
     "output_type": "stream",
     "text": [
      "2023-09-21 14:00:12.491352: I tensorflow/core/common_runtime/placer.cc:114] resource: (_Arg): /job:localhost/replica:0/task:0/device:CPU:0\n",
      "2023-09-21 14:00:12.491377: I tensorflow/core/common_runtime/placer.cc:114] value: (_Arg): /job:localhost/replica:0/task:0/device:CPU:0\n",
      "2023-09-21 14:00:12.491390: I tensorflow/core/common_runtime/placer.cc:114] AssignAddVariableOp: (AssignAddVariableOp): /job:localhost/replica:0/task:0/device:CPU:0\n"
     ]
    },
    {
     "data": {
      "text/plain": [
       "<tf.Variable 'Variable:0' shape=(2, 3) dtype=float32, numpy=\n",
       "array([[101.,  21.,  31.],\n",
       "       [ 41.,  51.,  61.]], dtype=float32)>"
      ]
     },
     "execution_count": 61,
     "metadata": {},
     "output_type": "execute_result"
    }
   ],
   "source": [
    "# And mutate with arithmetic - add\n",
    "v1.assign_add([[1, 1, 1], [1, 1, 1]])\n",
    "\n",
    "v1"
   ]
  },
  {
   "cell_type": "code",
   "execution_count": 62,
   "id": "584e5b4f",
   "metadata": {},
   "outputs": [
    {
     "name": "stdout",
     "output_type": "stream",
     "text": [
      "Executing op _EagerConst in device /job:localhost/replica:0/task:0/device:CPU:0\n",
      "Executing op AssignSubVariableOp in device /job:localhost/replica:0/task:0/device:CPU:0\n",
      "Executing op ReadVariableOp in device /job:localhost/replica:0/task:0/device:CPU:0\n",
      "Executing op Identity in device /job:localhost/replica:0/task:0/device:CPU:0\n"
     ]
    },
    {
     "name": "stderr",
     "output_type": "stream",
     "text": [
      "2023-09-21 14:01:21.801391: I tensorflow/core/common_runtime/placer.cc:114] resource: (_Arg): /job:localhost/replica:0/task:0/device:CPU:0\n",
      "2023-09-21 14:01:21.801415: I tensorflow/core/common_runtime/placer.cc:114] value: (_Arg): /job:localhost/replica:0/task:0/device:CPU:0\n",
      "2023-09-21 14:01:21.801427: I tensorflow/core/common_runtime/placer.cc:114] AssignSubVariableOp: (AssignSubVariableOp): /job:localhost/replica:0/task:0/device:CPU:0\n"
     ]
    },
    {
     "data": {
      "text/plain": [
       "<tf.Variable 'Variable:0' shape=(2, 3) dtype=float32, numpy=\n",
       "array([[99., 19., 29.],\n",
       "       [39., 49., 59.]], dtype=float32)>"
      ]
     },
     "execution_count": 62,
     "metadata": {},
     "output_type": "execute_result"
    }
   ],
   "source": [
    "# subtract\n",
    "v1.assign_sub([[2, 2, 2], [2, 2, 2]])\n",
    "\n",
    "v1"
   ]
  },
  {
   "cell_type": "code",
   "execution_count": 63,
   "id": "ac1ee122",
   "metadata": {},
   "outputs": [
    {
     "name": "stdout",
     "output_type": "stream",
     "text": [
      "Executing op _EagerConst in device /job:localhost/replica:0/task:0/device:CPU:0\n",
      "Executing op VarHandleOp in device /job:localhost/replica:0/task:0/device:CPU:0\n",
      "Executing op AssignVariableOp in device /job:localhost/replica:0/task:0/device:CPU:0\n",
      "Executing op ReadVariableOp in device /job:localhost/replica:0/task:0/device:CPU:0\n",
      "Executing op Identity in device /job:localhost/replica:0/task:0/device:CPU:0\n"
     ]
    },
    {
     "name": "stderr",
     "output_type": "stream",
     "text": [
      "2023-09-21 14:01:43.095420: I tensorflow/core/common_runtime/placer.cc:114] resource_RetVal: (_Retval): /job:localhost/replica:0/task:0/device:CPU:0\n",
      "2023-09-21 14:01:43.095532: I tensorflow/core/common_runtime/placer.cc:114] VarHandleOp: (VarHandleOp): /job:localhost/replica:0/task:0/device:CPU:0\n",
      "2023-09-21 14:01:43.100108: I tensorflow/core/common_runtime/placer.cc:114] resource: (_Arg): /job:localhost/replica:0/task:0/device:CPU:0\n",
      "2023-09-21 14:01:43.100175: I tensorflow/core/common_runtime/placer.cc:114] value: (_Arg): /job:localhost/replica:0/task:0/device:CPU:0\n",
      "2023-09-21 14:01:43.100191: I tensorflow/core/common_runtime/placer.cc:114] AssignVariableOp: (AssignVariableOp): /job:localhost/replica:0/task:0/device:CPU:0\n",
      "2023-09-21 14:01:43.112278: I tensorflow/core/common_runtime/placer.cc:114] resource: (_Arg): /job:localhost/replica:0/task:0/device:CPU:0\n",
      "2023-09-21 14:01:43.112324: I tensorflow/core/common_runtime/placer.cc:114] ReadVariableOp: (ReadVariableOp): /job:localhost/replica:0/task:0/device:CPU:0\n",
      "2023-09-21 14:01:43.112338: I tensorflow/core/common_runtime/placer.cc:114] value_RetVal: (_Retval): /job:localhost/replica:0/task:0/device:CPU:0\n"
     ]
    },
    {
     "data": {
      "text/plain": [
       "<tf.Variable 'Variable:0' shape=(2,) dtype=float32, numpy=array([2., 3.], dtype=float32)>"
      ]
     },
     "execution_count": 63,
     "metadata": {},
     "output_type": "execute_result"
    }
   ],
   "source": [
    "var_a = tf.Variable([2.0, 3.0])\n",
    "\n",
    "var_a"
   ]
  },
  {
   "cell_type": "code",
   "execution_count": 64,
   "id": "208adaa8",
   "metadata": {},
   "outputs": [
    {
     "name": "stdout",
     "output_type": "stream",
     "text": [
      "Executing op ReadVariableOp in device /job:localhost/replica:0/task:0/device:CPU:0\n",
      "Executing op VarHandleOp in device /job:localhost/replica:0/task:0/device:CPU:0\n",
      "Executing op AssignVariableOp in device /job:localhost/replica:0/task:0/device:CPU:0\n",
      "Executing op ReadVariableOp in device /job:localhost/replica:0/task:0/device:CPU:0\n",
      "Executing op Identity in device /job:localhost/replica:0/task:0/device:CPU:0\n"
     ]
    },
    {
     "data": {
      "text/plain": [
       "<tf.Variable 'Variable:0' shape=(2,) dtype=float32, numpy=array([2., 3.], dtype=float32)>"
      ]
     },
     "execution_count": 64,
     "metadata": {},
     "output_type": "execute_result"
    }
   ],
   "source": [
    "# Assign a variable the value of another variable (copy, not a reference, they do not share memory)\n",
    "var_b = tf.Variable(var_a)\n",
    "\n",
    "var_b"
   ]
  },
  {
   "cell_type": "code",
   "execution_count": 71,
   "id": "eb1ec8d2",
   "metadata": {},
   "outputs": [
    {
     "name": "stdout",
     "output_type": "stream",
     "text": [
      "Executing op _EagerConst in device /job:localhost/replica:0/task:0/device:CPU:0\n",
      "Executing op AssignVariableOp in device /job:localhost/replica:0/task:0/device:CPU:0\n",
      "\n",
      "variables:\n",
      "var_a:  Executing op ReadVariableOp in device /job:localhost/replica:0/task:0/device:CPU:0\n",
      "Executing op Identity in device /job:localhost/replica:0/task:0/device:CPU:0\n",
      "<tf.Variable 'Variable:0' shape=(2,) dtype=float32, numpy=array([2., 3.], dtype=float32)>\n",
      "\n",
      "var_b:  Executing op ReadVariableOp in device /job:localhost/replica:0/task:0/device:CPU:0\n",
      "Executing op Identity in device /job:localhost/replica:0/task:0/device:CPU:0\n",
      "<tf.Variable 'Variable:0' shape=(2,) dtype=float32, numpy=array([200., 300.], dtype=float32)>\n",
      "\n",
      "numpy:\n",
      "Executing op ReadVariableOp in device /job:localhost/replica:0/task:0/device:CPU:0\n",
      "Executing op Identity in device /job:localhost/replica:0/task:0/device:CPU:0\n",
      "var_a:  [2. 3.]\n",
      "\n",
      "Executing op ReadVariableOp in device /job:localhost/replica:0/task:0/device:CPU:0\n",
      "Executing op Identity in device /job:localhost/replica:0/task:0/device:CPU:0\n",
      "var_b:  [200. 300.]\n"
     ]
    }
   ],
   "source": [
    "# Note when a new value is assigned to var_b it does not change var_a (because it was a copy)\n",
    "var_b.assign([200, 300])\n",
    "\n",
    "print()\n",
    "print(\"variables:\")\n",
    "print(\"var_a: \", var_a)\n",
    "print()\n",
    "print(\"var_b: \", var_b)\n",
    "print()\n",
    "print(\"numpy:\")\n",
    "print(\"var_a: \", var_a.numpy())\n",
    "print()\n",
    "print(\"var_b: \", var_b.numpy())"
   ]
  },
  {
   "cell_type": "markdown",
   "id": "0ddb4fb2",
   "metadata": {},
   "source": [
    "### TensorFlow and Keras\n",
    "\n",
    "**TensorFlow** allows us to perform scientific computations at scale, most commonly in the form of neural network models.\n",
    "\n",
    "**Keras** is a central part of the tightly-conected TensorFlow 2.0 ecosystem, covering every part of the machine learning workflow.\n",
    "\n",
    "TensorFlow 2.0 includes the Keras API:\n",
    "- Estimators\n",
    "- Pipelines\n",
    "- Eager execution \n",
    "\n",
    "Use tf.keras to build, train, and evaluate models. Also use to save models to disk, restore models, and leverage GPUs."
   ]
  },
  {
   "cell_type": "markdown",
   "id": "244cf522",
   "metadata": {},
   "source": [
    "## Module 3: Understanding Dynamic and Static Computation Graphs\n",
    "All of the computations and tensors in a nueral network together make up a directed-acyclic graph (DAG).\n",
    "- Optimize operations in TenrsorFlow\n",
    "- Removes common expressions\n",
    "- Parallelizes independent computations to run on different devices\n",
    "- Simplifies distributed training and deployment"
   ]
  },
  {
   "cell_type": "markdown",
   "id": "aecdd292",
   "metadata": {},
   "source": [
    "### Static and Dynamic Computation Graphs\n",
    "TensorFlow 2.0 supports both whereas 1.0 only supported static graphs.\n",
    "\n",
    "**Best Practice:** Develop with dynamic graphs, deploy static.\n",
    "\n",
    "#### Static Graphs\n",
    "*Define, then run*\n",
    "- Lazy execution\n",
    "- Compilation converts the graph into executable format\n",
    "- Harder to program and debug, less flexibile\n",
    "- More efficient and easier to optimize\n",
    "- Symbolic programming of NNs\n",
    "    - Define operations then execute\n",
    "    - Define function abstractly where no actual computation takes place\n",
    "    - Computation explicitly compiled before evaluation\n",
    "    - e.g., Java, C++\n",
    "\n",
    "#### Dyanmic Graphs\n",
    "*Define by run*\n",
    "- Eager execution\n",
    "- Graph already in executable format\n",
    "- Easier to write and debug, more flexibile\n",
    "- Less efficient and harder to optimize\n",
    "- Imperative programming of NNs\n",
    "    - Execution performed as operations defined\n",
    "    - Code actually executed as the function is defined\n",
    "    - No explicit comilation step before evaluation\n",
    "    - e.g., Python"
   ]
  },
  {
   "cell_type": "markdown",
   "id": "8158006f",
   "metadata": {},
   "source": [
    "### Demo: TensorFlow V1 Sessions to Execute Static Computation Graphs"
   ]
  },
  {
   "cell_type": "code",
   "execution_count": 72,
   "id": "6f63938f",
   "metadata": {},
   "outputs": [],
   "source": [
    "import tensorflow as tf"
   ]
  },
  {
   "cell_type": "code",
   "execution_count": null,
   "id": "d464ba78",
   "metadata": {},
   "outputs": [],
   "source": []
  }
 ],
 "metadata": {
  "kernelspec": {
   "display_name": "Python 3 (ipykernel)",
   "language": "python",
   "name": "python3"
  },
  "language_info": {
   "codemirror_mode": {
    "name": "ipython",
    "version": 3
   },
   "file_extension": ".py",
   "mimetype": "text/x-python",
   "name": "python",
   "nbconvert_exporter": "python",
   "pygments_lexer": "ipython3",
   "version": "3.10.9"
  }
 },
 "nbformat": 4,
 "nbformat_minor": 5
}
